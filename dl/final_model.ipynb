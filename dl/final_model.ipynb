{
 "cells": [
  {
   "cell_type": "markdown",
   "metadata": {},
   "source": [
    "Important notes:\n",
    "1. python must be 3.8.x\n",
    "2. if you get \"libtinfo.so.5\" error, do \"sudo apt install libncurses5\" - also see this link https://github.com/ChrisCummins/ProGraML/issues/187\n",
    "\n",
    "What we need to do:\n",
    "- This program takes all the cpp files int the HLS folder, and converts it into a networkx graph. graph_list is a list of networkx graphs, If a cpp files requires a header that is not in the standard library, you need to include that .h file in that folder.\n",
    "- We have two important tasks before we can start applying it to a GNN model:\n",
    "    - embed the node information into a vector. (I think arvind has a picture of a board stefan drew on that explains it well)\n",
    "    - convert the MultiDiGraph into a normal Digraph I think\n"
   ]
  },
  {
   "cell_type": "code",
   "execution_count": 1,
   "metadata": {},
   "outputs": [
    {
     "name": "stdout",
     "output_type": "stream",
     "text": [
      "Python 3.8.20\n"
     ]
    }
   ],
   "source": [
    "!python3 --version"
   ]
  },
  {
   "cell_type": "code",
   "execution_count": 2,
   "metadata": {},
   "outputs": [
    {
     "name": "stdout",
     "output_type": "stream",
     "text": [
      "Requirement already satisfied: programl in /export/hdd/scratch/aramacha32/conda/envs/graph/lib/python3.8/site-packages (0.3.2)\n",
      "Requirement already satisfied: absl-py>=0.11.0 in /export/hdd/scratch/aramacha32/conda/envs/graph/lib/python3.8/site-packages (from programl) (2.1.0)\n",
      "Requirement already satisfied: dgl>=0.6.1 in /export/hdd/scratch/aramacha32/conda/envs/graph/lib/python3.8/site-packages (from programl) (0.6.1)\n",
      "Requirement already satisfied: grpcio>=1.33.2 in /export/hdd/scratch/aramacha32/conda/envs/graph/lib/python3.8/site-packages (from programl) (1.68.0)\n",
      "Requirement already satisfied: networkx>=2.4 in /export/hdd/scratch/aramacha32/conda/envs/graph/lib/python3.8/site-packages (from programl) (3.1)\n",
      "Requirement already satisfied: numpy>=1.19.3 in /export/hdd/scratch/aramacha32/conda/envs/graph/lib/python3.8/site-packages (from programl) (1.24.4)\n",
      "Requirement already satisfied: protobuf>=3.13.0 in /export/hdd/scratch/aramacha32/conda/envs/graph/lib/python3.8/site-packages (from programl) (3.20.3)\n",
      "Requirement already satisfied: torch>=1.8.0 in /export/hdd/scratch/aramacha32/conda/envs/graph/lib/python3.8/site-packages (from programl) (2.4.1)\n",
      "Requirement already satisfied: tqdm>=4.38.0 in /export/hdd/scratch/aramacha32/conda/envs/graph/lib/python3.8/site-packages (from programl) (4.67.1)\n",
      "Requirement already satisfied: scipy>=1.1.0 in /export/hdd/scratch/aramacha32/conda/envs/graph/lib/python3.8/site-packages (from dgl>=0.6.1->programl) (1.10.1)\n",
      "Requirement already satisfied: requests>=2.19.0 in /export/hdd/scratch/aramacha32/conda/envs/graph/lib/python3.8/site-packages (from dgl>=0.6.1->programl) (2.32.3)\n",
      "Requirement already satisfied: filelock in /export/hdd/scratch/aramacha32/conda/envs/graph/lib/python3.8/site-packages (from torch>=1.8.0->programl) (3.16.1)\n",
      "Requirement already satisfied: typing-extensions>=4.8.0 in /export/hdd/scratch/aramacha32/conda/envs/graph/lib/python3.8/site-packages (from torch>=1.8.0->programl) (4.12.2)\n",
      "Requirement already satisfied: sympy in /export/hdd/scratch/aramacha32/conda/envs/graph/lib/python3.8/site-packages (from torch>=1.8.0->programl) (1.13.3)\n",
      "Requirement already satisfied: jinja2 in /export/hdd/scratch/aramacha32/conda/envs/graph/lib/python3.8/site-packages (from torch>=1.8.0->programl) (3.1.4)\n",
      "Requirement already satisfied: fsspec in /export/hdd/scratch/aramacha32/conda/envs/graph/lib/python3.8/site-packages (from torch>=1.8.0->programl) (2024.10.0)\n",
      "Requirement already satisfied: nvidia-cuda-nvrtc-cu12==12.1.105 in /export/hdd/scratch/aramacha32/conda/envs/graph/lib/python3.8/site-packages (from torch>=1.8.0->programl) (12.1.105)\n",
      "Requirement already satisfied: nvidia-cuda-runtime-cu12==12.1.105 in /export/hdd/scratch/aramacha32/conda/envs/graph/lib/python3.8/site-packages (from torch>=1.8.0->programl) (12.1.105)\n",
      "Requirement already satisfied: nvidia-cuda-cupti-cu12==12.1.105 in /export/hdd/scratch/aramacha32/conda/envs/graph/lib/python3.8/site-packages (from torch>=1.8.0->programl) (12.1.105)\n",
      "Requirement already satisfied: nvidia-cudnn-cu12==9.1.0.70 in /export/hdd/scratch/aramacha32/conda/envs/graph/lib/python3.8/site-packages (from torch>=1.8.0->programl) (9.1.0.70)\n",
      "Requirement already satisfied: nvidia-cublas-cu12==12.1.3.1 in /export/hdd/scratch/aramacha32/conda/envs/graph/lib/python3.8/site-packages (from torch>=1.8.0->programl) (12.1.3.1)\n",
      "Requirement already satisfied: nvidia-cufft-cu12==11.0.2.54 in /export/hdd/scratch/aramacha32/conda/envs/graph/lib/python3.8/site-packages (from torch>=1.8.0->programl) (11.0.2.54)\n",
      "Requirement already satisfied: nvidia-curand-cu12==10.3.2.106 in /export/hdd/scratch/aramacha32/conda/envs/graph/lib/python3.8/site-packages (from torch>=1.8.0->programl) (10.3.2.106)\n",
      "Requirement already satisfied: nvidia-cusolver-cu12==11.4.5.107 in /export/hdd/scratch/aramacha32/conda/envs/graph/lib/python3.8/site-packages (from torch>=1.8.0->programl) (11.4.5.107)\n",
      "Requirement already satisfied: nvidia-cusparse-cu12==12.1.0.106 in /export/hdd/scratch/aramacha32/conda/envs/graph/lib/python3.8/site-packages (from torch>=1.8.0->programl) (12.1.0.106)\n",
      "Requirement already satisfied: nvidia-nccl-cu12==2.20.5 in /export/hdd/scratch/aramacha32/conda/envs/graph/lib/python3.8/site-packages (from torch>=1.8.0->programl) (2.20.5)\n",
      "Requirement already satisfied: nvidia-nvtx-cu12==12.1.105 in /export/hdd/scratch/aramacha32/conda/envs/graph/lib/python3.8/site-packages (from torch>=1.8.0->programl) (12.1.105)\n",
      "Requirement already satisfied: triton==3.0.0 in /export/hdd/scratch/aramacha32/conda/envs/graph/lib/python3.8/site-packages (from torch>=1.8.0->programl) (3.0.0)\n",
      "Requirement already satisfied: nvidia-nvjitlink-cu12 in /export/hdd/scratch/aramacha32/conda/envs/graph/lib/python3.8/site-packages (from nvidia-cusolver-cu12==11.4.5.107->torch>=1.8.0->programl) (12.6.85)\n",
      "Requirement already satisfied: charset-normalizer<4,>=2 in /export/hdd/scratch/aramacha32/conda/envs/graph/lib/python3.8/site-packages (from requests>=2.19.0->dgl>=0.6.1->programl) (3.4.0)\n",
      "Requirement already satisfied: idna<4,>=2.5 in /export/hdd/scratch/aramacha32/conda/envs/graph/lib/python3.8/site-packages (from requests>=2.19.0->dgl>=0.6.1->programl) (3.10)\n",
      "Requirement already satisfied: urllib3<3,>=1.21.1 in /export/hdd/scratch/aramacha32/conda/envs/graph/lib/python3.8/site-packages (from requests>=2.19.0->dgl>=0.6.1->programl) (2.2.3)\n",
      "Requirement already satisfied: certifi>=2017.4.17 in /export/hdd/scratch/aramacha32/conda/envs/graph/lib/python3.8/site-packages (from requests>=2.19.0->dgl>=0.6.1->programl) (2024.8.30)\n",
      "Requirement already satisfied: MarkupSafe>=2.0 in /export/hdd/scratch/aramacha32/conda/envs/graph/lib/python3.8/site-packages (from jinja2->torch>=1.8.0->programl) (2.1.5)\n",
      "Requirement already satisfied: mpmath<1.4,>=1.1.0 in /export/hdd/scratch/aramacha32/conda/envs/graph/lib/python3.8/site-packages (from sympy->torch>=1.8.0->programl) (1.3.0)\n",
      "Note: you may need to restart the kernel to use updated packages.\n"
     ]
    }
   ],
   "source": [
    "%pip install -U programl"
   ]
  },
  {
   "cell_type": "code",
   "execution_count": 3,
   "metadata": {},
   "outputs": [
    {
     "name": "stdout",
     "output_type": "stream",
     "text": [
      "Requirement already satisfied: protobuf==3.20.* in /export/hdd/scratch/aramacha32/conda/envs/graph/lib/python3.8/site-packages (3.20.3)\n",
      "Note: you may need to restart the kernel to use updated packages.\n",
      "Requirement already satisfied: dgl==0.6.1 in /export/hdd/scratch/aramacha32/conda/envs/graph/lib/python3.8/site-packages (0.6.1)\n",
      "Requirement already satisfied: numpy>=1.14.0 in /export/hdd/scratch/aramacha32/conda/envs/graph/lib/python3.8/site-packages (from dgl==0.6.1) (1.24.4)\n",
      "Requirement already satisfied: scipy>=1.1.0 in /export/hdd/scratch/aramacha32/conda/envs/graph/lib/python3.8/site-packages (from dgl==0.6.1) (1.10.1)\n",
      "Requirement already satisfied: networkx>=2.1 in /export/hdd/scratch/aramacha32/conda/envs/graph/lib/python3.8/site-packages (from dgl==0.6.1) (3.1)\n",
      "Requirement already satisfied: requests>=2.19.0 in /export/hdd/scratch/aramacha32/conda/envs/graph/lib/python3.8/site-packages (from dgl==0.6.1) (2.32.3)\n",
      "Requirement already satisfied: charset-normalizer<4,>=2 in /export/hdd/scratch/aramacha32/conda/envs/graph/lib/python3.8/site-packages (from requests>=2.19.0->dgl==0.6.1) (3.4.0)\n",
      "Requirement already satisfied: idna<4,>=2.5 in /export/hdd/scratch/aramacha32/conda/envs/graph/lib/python3.8/site-packages (from requests>=2.19.0->dgl==0.6.1) (3.10)\n",
      "Requirement already satisfied: urllib3<3,>=1.21.1 in /export/hdd/scratch/aramacha32/conda/envs/graph/lib/python3.8/site-packages (from requests>=2.19.0->dgl==0.6.1) (2.2.3)\n",
      "Requirement already satisfied: certifi>=2017.4.17 in /export/hdd/scratch/aramacha32/conda/envs/graph/lib/python3.8/site-packages (from requests>=2.19.0->dgl==0.6.1) (2024.8.30)\n",
      "Note: you may need to restart the kernel to use updated packages.\n"
     ]
    }
   ],
   "source": [
    "%pip install protobuf==3.20.*\n",
    "%pip install dgl==0.6.1"
   ]
  },
  {
   "cell_type": "code",
   "execution_count": 4,
   "metadata": {},
   "outputs": [
    {
     "name": "stderr",
     "output_type": "stream",
     "text": [
      "Using backend: pytorch\n",
      "/export/hdd/scratch/aramacha32/conda/envs/graph/lib/python3.8/site-packages/dgl/backend/pytorch/sparse.py:85: FutureWarning: `torch.cuda.amp.custom_fwd(args...)` is deprecated. Please use `torch.amp.custom_fwd(args..., device_type='cuda')` instead.\n",
      "  @custom_fwd(cast_inputs=th.float16)\n",
      "/export/hdd/scratch/aramacha32/conda/envs/graph/lib/python3.8/site-packages/dgl/backend/pytorch/sparse.py:94: FutureWarning: `torch.cuda.amp.custom_bwd(args...)` is deprecated. Please use `torch.amp.custom_bwd(args..., device_type='cuda')` instead.\n",
      "  def backward(ctx, dZ):\n",
      "/export/hdd/scratch/aramacha32/conda/envs/graph/lib/python3.8/site-packages/dgl/backend/pytorch/sparse.py:147: FutureWarning: `torch.cuda.amp.custom_fwd(args...)` is deprecated. Please use `torch.amp.custom_fwd(args..., device_type='cuda')` instead.\n",
      "  @custom_fwd(cast_inputs=th.float16)\n",
      "/export/hdd/scratch/aramacha32/conda/envs/graph/lib/python3.8/site-packages/dgl/backend/pytorch/sparse.py:156: FutureWarning: `torch.cuda.amp.custom_bwd(args...)` is deprecated. Please use `torch.amp.custom_bwd(args..., device_type='cuda')` instead.\n",
      "  def backward(ctx, dZ):\n",
      "/export/hdd/scratch/aramacha32/conda/envs/graph/lib/python3.8/site-packages/dgl/backend/pytorch/sparse.py:208: FutureWarning: `torch.cuda.amp.custom_fwd(args...)` is deprecated. Please use `torch.amp.custom_fwd(args..., device_type='cuda')` instead.\n",
      "  @custom_fwd(cast_inputs=th.float16)\n",
      "/export/hdd/scratch/aramacha32/conda/envs/graph/lib/python3.8/site-packages/dgl/backend/pytorch/sparse.py:239: FutureWarning: `torch.cuda.amp.custom_bwd(args...)` is deprecated. Please use `torch.amp.custom_bwd(args..., device_type='cuda')` instead.\n",
      "  def backward(ctx, grad_out):\n",
      "/export/hdd/scratch/aramacha32/conda/envs/graph/lib/python3.8/site-packages/dgl/backend/pytorch/sparse.py:264: FutureWarning: `torch.cuda.amp.custom_fwd(args...)` is deprecated. Please use `torch.amp.custom_fwd(args..., device_type='cuda')` instead.\n",
      "  @custom_fwd(cast_inputs=th.float16)\n",
      "/export/hdd/scratch/aramacha32/conda/envs/graph/lib/python3.8/site-packages/dgl/backend/pytorch/sparse.py:273: FutureWarning: `torch.cuda.amp.custom_bwd(args...)` is deprecated. Please use `torch.amp.custom_bwd(args..., device_type='cuda')` instead.\n",
      "  def backward(ctx, dy):\n",
      "/export/hdd/scratch/aramacha32/conda/envs/graph/lib/python3.8/site-packages/dgl/backend/pytorch/sparse.py:293: FutureWarning: `torch.cuda.amp.custom_fwd(args...)` is deprecated. Please use `torch.amp.custom_fwd(args..., device_type='cuda')` instead.\n",
      "  @custom_fwd(cast_inputs=th.float16)\n",
      "/export/hdd/scratch/aramacha32/conda/envs/graph/lib/python3.8/site-packages/dgl/backend/pytorch/sparse.py:301: FutureWarning: `torch.cuda.amp.custom_bwd(args...)` is deprecated. Please use `torch.amp.custom_bwd(args..., device_type='cuda')` instead.\n",
      "  def backward(ctx, dy):\n"
     ]
    }
   ],
   "source": [
    "import programl as pg\n",
    "import numpy as np"
   ]
  },
  {
   "cell_type": "code",
   "execution_count": 11,
   "metadata": {
    "editable": true,
    "scrolled": true,
    "slideshow": {
     "slide_type": ""
    },
    "tags": []
   },
   "outputs": [
    {
     "name": "stdout",
     "output_type": "stream",
     "text": [
      "[['/usr/scratch/ssam/result/atax_opt_36b6a5399fb21f370bdb63809fb4e2ba/atax_hls.cpp'], ['/usr/scratch/ssam/result/atax_opt_8df7f2f6bfcce5e6c5fbcbdfd0467640/atax_hls.cpp'], ['/usr/scratch/ssam/result/atax_opt_c782838d48aa0f7ae38b685410bfa894/atax_hls.cpp']]\n",
      "['/usr/scratch/ssam/result/atax_opt_36b6a5399fb21f370bdb63809fb4e2ba/data_hls.json', '/usr/scratch/ssam/result/atax_opt_8df7f2f6bfcce5e6c5fbcbdfd0467640/data_hls.json', '/usr/scratch/ssam/result/atax_opt_c782838d48aa0f7ae38b685410bfa894/data_hls.json']\n",
      "676\n"
     ]
    }
   ],
   "source": [
    "import os\n",
    "cpp_files = []\n",
    "hls_reports = []\n",
    "res = \"/usr/scratch/ssam/result\"\n",
    "for root, dirs, files in os.walk(res):\n",
    "    for folder in dirs:\n",
    "        folder_path = res + \"/\" + folder\n",
    "        for r, d, files in os.walk(folder_path):\n",
    "            for file in files:\n",
    "                #print(r)\n",
    "                #print(r[25:28])\n",
    "                if(r[25:28] == \"ata\"):\n",
    "                    if file.endswith(\".cpp\"):\n",
    "                        cpp_files.append([os.path.join(r, file)])\n",
    "                    if file.endswith(\".json\"):\n",
    "                        hls_reports.append(os.path.join(r, file))\n",
    "print(cpp_files[0:3])\n",
    "print(hls_reports[0:3])\n",
    "print(len(cpp_files))\n",
    "\n",
    "cpp_files = cpp_files[0:100]\n",
    "hls_reports = hls_reports[0:100]\n"
   ]
  },
  {
   "cell_type": "code",
   "execution_count": 6,
   "metadata": {},
   "outputs": [],
   "source": [
    "#if you get the libtinfo.so.5 error, this should work: $sudo apt install libncurses5\n"
   ]
  },
  {
   "cell_type": "code",
   "execution_count": 13,
   "metadata": {},
   "outputs": [],
   "source": [
    "\n",
    "\n",
    "Generator = pg.from_clang(cpp_files)\n",
    "\n",
    "graph_list = []\n",
    "t = 0\n",
    "for graph in Generator:\n",
    "    graph = pg.to_networkx(graph)\n",
    "    graph_list.append(graph)\n",
    "   \n",
    "#print(len(graph_list))\n",
    "\n"
   ]
  },
  {
   "cell_type": "code",
   "execution_count": 14,
   "metadata": {
    "editable": true,
    "slideshow": {
     "slide_type": ""
    },
    "tags": []
   },
   "outputs": [
    {
     "name": "stdout",
     "output_type": "stream",
     "text": [
      "(100, 1)\n"
     ]
    }
   ],
   "source": [
    "#labels\n",
    "import json\n",
    "\n",
    "def parse_json(file_path, key):\n",
    "    with open(file_path, \"r\") as file:\n",
    "        data = json.load(file)\n",
    "\n",
    "        if key in data:\n",
    "            return data[key]\n",
    "        else:\n",
    "            print(f\"Key '{key}' not found in the JSON file.\")\n",
    "            return None\n",
    "\n",
    "labels = []\n",
    "\n",
    "for file in hls_reports:\n",
    "    avg_cycles = parse_json(file, \"latency_average_cycles\")\n",
    "    resources_lut = parse_json(file, \"resources_lut_used\")\n",
    "    label = [resources_lut]\n",
    "    labels.append(label)\n",
    "labels = np.array(labels)\n",
    "print(labels.shape)"
   ]
  },
  {
   "cell_type": "code",
   "execution_count": 74,
   "metadata": {
    "editable": true,
    "scrolled": true,
    "slideshow": {
     "slide_type": ""
    },
    "tags": []
   },
   "outputs": [
    {
     "name": "stdout",
     "output_type": "stream",
     "text": [
      "15\n"
     ]
    }
   ],
   "source": [
    "#This is what Arvind made - so if you have any questions about it ask him - but this does all the node embeddings.\n",
    "#It takes in every networkx graph in our list and represents them numerically (both nodes and edges)\n",
    "#we may want to add more things to text_list - that list is the list of LLVM IR commands. that will not be very hard though\n",
    "\n",
    "\n",
    "texts = []\n",
    "x_features = []\n",
    "x_features_list = []\n",
    "text_list = ['icmp', 'i1','add','alloca','float','[64 x float]*','sext','getelementptr','float*','i64','store','br','i32','load','i32*']\n",
    "print(len(text_list))\n",
    "text = {}\n",
    "edge_attr_list = []\n",
    "edge_idx_list = []\n",
    "for g in graph_list:\n",
    "    for n in g.nodes(data=True):\n",
    "        x = np.zeros(len(text_list) + 4, dtype='float64')\n",
    "        dict = n[1]\n",
    "        key = dict['text']\n",
    "        #if key not in text_list:\n",
    "        #    key = 'other'\n",
    "        #    x[x.shape[0]-1] = 1\n",
    "        #else:\n",
    "        #    x[3 + text_list.index(key)] = 1\n",
    "        x[0] = n[0]\n",
    "        x[1] = dict['function']\n",
    "        x[2] = dict['type']\n",
    "        if key in text:\n",
    "            text[key] += 1\n",
    "        else:\n",
    "            text[key] = 1\n",
    "        #x_features.append({'x' : x})\n",
    "        x_features.append(x)\n",
    "    x_features_list.append(np.array(x_features, dtype='float64'))\n",
    "    texts.append(text)\n",
    "    edge_indexes = [[], []]\n",
    "    edge_attr = []\n",
    "    pairs = []\n",
    "    for e in g.edges(data=True):\n",
    "        if (e[0], e[1]) in pairs:\n",
    "            continue\n",
    "        pairs.append((e[0], e[1]))\n",
    "        edge_indexes[0].append(e[0])\n",
    "        edge_indexes[1].append(e[1])\n",
    "        attr = e[2].values()\n",
    "        edge = []\n",
    "        for a in attr:\n",
    "            edge.append(a)\n",
    "        edge_attr.append(edge)\n",
    "    edge_attr_list.append(np.array(edge_attr, dtype='int64'))\n",
    "    edge_idx_list.append(edge_indexes)"
   ]
  },
  {
   "cell_type": "code",
   "execution_count": 75,
   "metadata": {
    "editable": true,
    "slideshow": {
     "slide_type": ""
    },
    "tags": []
   },
   "outputs": [
    {
     "name": "stdout",
     "output_type": "stream",
     "text": [
      "<class 'list'>\n",
      "[('icmp', 700), ('i1', 700), ('add', 700), ('alloca', 900), ('float', 1400), ('[64 x float]*', 1600), ('sext', 2000), ('getelementptr', 2000), ('float*', 2000), ('i64', 2100), ('store', 2400), ('br', 3500), ('i32', 4400), ('load', 4600), ('i32*', 4800)]\n",
      "100\n"
     ]
    }
   ],
   "source": [
    "sorted_text = sorted(text.items(), key= lambda x:x[1])\n",
    "print(type(sorted_text))\n",
    "print(sorted_text[-len(text_list):])\n",
    "print(len(graph_list))"
   ]
  },
  {
   "cell_type": "code",
   "execution_count": 17,
   "metadata": {},
   "outputs": [
    {
     "name": "stdout",
     "output_type": "stream",
     "text": [
      "Requirement already satisfied: torch_geometric in /export/hdd/scratch/aramacha32/conda/envs/graph/lib/python3.8/site-packages (2.6.1)\n",
      "Requirement already satisfied: aiohttp in /export/hdd/scratch/aramacha32/conda/envs/graph/lib/python3.8/site-packages (from torch_geometric) (3.10.11)\n",
      "Requirement already satisfied: fsspec in /export/hdd/scratch/aramacha32/conda/envs/graph/lib/python3.8/site-packages (from torch_geometric) (2024.10.0)\n",
      "Requirement already satisfied: jinja2 in /export/hdd/scratch/aramacha32/conda/envs/graph/lib/python3.8/site-packages (from torch_geometric) (3.1.4)\n",
      "Requirement already satisfied: numpy in /export/hdd/scratch/aramacha32/conda/envs/graph/lib/python3.8/site-packages (from torch_geometric) (1.24.4)\n",
      "Requirement already satisfied: psutil>=5.8.0 in /export/hdd/scratch/aramacha32/conda/envs/graph/lib/python3.8/site-packages (from torch_geometric) (6.0.0)\n",
      "Requirement already satisfied: pyparsing in /export/hdd/scratch/aramacha32/conda/envs/graph/lib/python3.8/site-packages (from torch_geometric) (3.1.4)\n",
      "Requirement already satisfied: requests in /export/hdd/scratch/aramacha32/conda/envs/graph/lib/python3.8/site-packages (from torch_geometric) (2.32.3)\n",
      "Requirement already satisfied: tqdm in /export/hdd/scratch/aramacha32/conda/envs/graph/lib/python3.8/site-packages (from torch_geometric) (4.67.1)\n",
      "Requirement already satisfied: aiohappyeyeballs>=2.3.0 in /export/hdd/scratch/aramacha32/conda/envs/graph/lib/python3.8/site-packages (from aiohttp->torch_geometric) (2.4.4)\n",
      "Requirement already satisfied: aiosignal>=1.1.2 in /export/hdd/scratch/aramacha32/conda/envs/graph/lib/python3.8/site-packages (from aiohttp->torch_geometric) (1.3.1)\n",
      "Requirement already satisfied: attrs>=17.3.0 in /export/hdd/scratch/aramacha32/conda/envs/graph/lib/python3.8/site-packages (from aiohttp->torch_geometric) (24.2.0)\n",
      "Requirement already satisfied: frozenlist>=1.1.1 in /export/hdd/scratch/aramacha32/conda/envs/graph/lib/python3.8/site-packages (from aiohttp->torch_geometric) (1.5.0)\n",
      "Requirement already satisfied: multidict<7.0,>=4.5 in /export/hdd/scratch/aramacha32/conda/envs/graph/lib/python3.8/site-packages (from aiohttp->torch_geometric) (6.1.0)\n",
      "Requirement already satisfied: yarl<2.0,>=1.12.0 in /export/hdd/scratch/aramacha32/conda/envs/graph/lib/python3.8/site-packages (from aiohttp->torch_geometric) (1.15.2)\n",
      "Requirement already satisfied: async-timeout<6.0,>=4.0 in /export/hdd/scratch/aramacha32/conda/envs/graph/lib/python3.8/site-packages (from aiohttp->torch_geometric) (5.0.1)\n",
      "Requirement already satisfied: MarkupSafe>=2.0 in /export/hdd/scratch/aramacha32/conda/envs/graph/lib/python3.8/site-packages (from jinja2->torch_geometric) (2.1.5)\n",
      "Requirement already satisfied: charset-normalizer<4,>=2 in /export/hdd/scratch/aramacha32/conda/envs/graph/lib/python3.8/site-packages (from requests->torch_geometric) (3.4.0)\n",
      "Requirement already satisfied: idna<4,>=2.5 in /export/hdd/scratch/aramacha32/conda/envs/graph/lib/python3.8/site-packages (from requests->torch_geometric) (3.10)\n",
      "Requirement already satisfied: urllib3<3,>=1.21.1 in /export/hdd/scratch/aramacha32/conda/envs/graph/lib/python3.8/site-packages (from requests->torch_geometric) (2.2.3)\n",
      "Requirement already satisfied: certifi>=2017.4.17 in /export/hdd/scratch/aramacha32/conda/envs/graph/lib/python3.8/site-packages (from requests->torch_geometric) (2024.8.30)\n",
      "Requirement already satisfied: typing-extensions>=4.1.0 in /export/hdd/scratch/aramacha32/conda/envs/graph/lib/python3.8/site-packages (from multidict<7.0,>=4.5->aiohttp->torch_geometric) (4.12.2)\n",
      "Requirement already satisfied: propcache>=0.2.0 in /export/hdd/scratch/aramacha32/conda/envs/graph/lib/python3.8/site-packages (from yarl<2.0,>=1.12.0->aiohttp->torch_geometric) (0.2.0)\n",
      "Note: you may need to restart the kernel to use updated packages.\n"
     ]
    }
   ],
   "source": [
    "%pip install torch_geometric"
   ]
  },
  {
   "cell_type": "code",
   "execution_count": 18,
   "metadata": {},
   "outputs": [
    {
     "name": "stdout",
     "output_type": "stream",
     "text": [
      "Requirement already satisfied: torch_geometric in /export/hdd/scratch/aramacha32/conda/envs/graph/lib/python3.8/site-packages (2.6.1)\n",
      "Requirement already satisfied: aiohttp in /export/hdd/scratch/aramacha32/conda/envs/graph/lib/python3.8/site-packages (from torch_geometric) (3.10.11)\n",
      "Requirement already satisfied: fsspec in /export/hdd/scratch/aramacha32/conda/envs/graph/lib/python3.8/site-packages (from torch_geometric) (2024.10.0)\n",
      "Requirement already satisfied: jinja2 in /export/hdd/scratch/aramacha32/conda/envs/graph/lib/python3.8/site-packages (from torch_geometric) (3.1.4)\n",
      "Requirement already satisfied: numpy in /export/hdd/scratch/aramacha32/conda/envs/graph/lib/python3.8/site-packages (from torch_geometric) (1.24.4)\n",
      "Requirement already satisfied: psutil>=5.8.0 in /export/hdd/scratch/aramacha32/conda/envs/graph/lib/python3.8/site-packages (from torch_geometric) (6.0.0)\n",
      "Requirement already satisfied: pyparsing in /export/hdd/scratch/aramacha32/conda/envs/graph/lib/python3.8/site-packages (from torch_geometric) (3.1.4)\n",
      "Requirement already satisfied: requests in /export/hdd/scratch/aramacha32/conda/envs/graph/lib/python3.8/site-packages (from torch_geometric) (2.32.3)\n",
      "Requirement already satisfied: tqdm in /export/hdd/scratch/aramacha32/conda/envs/graph/lib/python3.8/site-packages (from torch_geometric) (4.67.1)\n",
      "Requirement already satisfied: aiohappyeyeballs>=2.3.0 in /export/hdd/scratch/aramacha32/conda/envs/graph/lib/python3.8/site-packages (from aiohttp->torch_geometric) (2.4.4)\n",
      "Requirement already satisfied: aiosignal>=1.1.2 in /export/hdd/scratch/aramacha32/conda/envs/graph/lib/python3.8/site-packages (from aiohttp->torch_geometric) (1.3.1)\n",
      "Requirement already satisfied: attrs>=17.3.0 in /export/hdd/scratch/aramacha32/conda/envs/graph/lib/python3.8/site-packages (from aiohttp->torch_geometric) (24.2.0)\n",
      "Requirement already satisfied: frozenlist>=1.1.1 in /export/hdd/scratch/aramacha32/conda/envs/graph/lib/python3.8/site-packages (from aiohttp->torch_geometric) (1.5.0)\n",
      "Requirement already satisfied: multidict<7.0,>=4.5 in /export/hdd/scratch/aramacha32/conda/envs/graph/lib/python3.8/site-packages (from aiohttp->torch_geometric) (6.1.0)\n",
      "Requirement already satisfied: yarl<2.0,>=1.12.0 in /export/hdd/scratch/aramacha32/conda/envs/graph/lib/python3.8/site-packages (from aiohttp->torch_geometric) (1.15.2)\n",
      "Requirement already satisfied: async-timeout<6.0,>=4.0 in /export/hdd/scratch/aramacha32/conda/envs/graph/lib/python3.8/site-packages (from aiohttp->torch_geometric) (5.0.1)\n",
      "Requirement already satisfied: MarkupSafe>=2.0 in /export/hdd/scratch/aramacha32/conda/envs/graph/lib/python3.8/site-packages (from jinja2->torch_geometric) (2.1.5)\n",
      "Requirement already satisfied: charset-normalizer<4,>=2 in /export/hdd/scratch/aramacha32/conda/envs/graph/lib/python3.8/site-packages (from requests->torch_geometric) (3.4.0)\n",
      "Requirement already satisfied: idna<4,>=2.5 in /export/hdd/scratch/aramacha32/conda/envs/graph/lib/python3.8/site-packages (from requests->torch_geometric) (3.10)\n",
      "Requirement already satisfied: urllib3<3,>=1.21.1 in /export/hdd/scratch/aramacha32/conda/envs/graph/lib/python3.8/site-packages (from requests->torch_geometric) (2.2.3)\n",
      "Requirement already satisfied: certifi>=2017.4.17 in /export/hdd/scratch/aramacha32/conda/envs/graph/lib/python3.8/site-packages (from requests->torch_geometric) (2024.8.30)\n",
      "Requirement already satisfied: typing-extensions>=4.1.0 in /export/hdd/scratch/aramacha32/conda/envs/graph/lib/python3.8/site-packages (from multidict<7.0,>=4.5->aiohttp->torch_geometric) (4.12.2)\n",
      "Requirement already satisfied: propcache>=0.2.0 in /export/hdd/scratch/aramacha32/conda/envs/graph/lib/python3.8/site-packages (from yarl<2.0,>=1.12.0->aiohttp->torch_geometric) (0.2.0)\n",
      "Note: you may need to restart the kernel to use updated packages.\n"
     ]
    }
   ],
   "source": [
    "%pip install torch_geometric"
   ]
  },
  {
   "cell_type": "code",
   "execution_count": 76,
   "metadata": {
    "editable": true,
    "slideshow": {
     "slide_type": ""
    },
    "tags": []
   },
   "outputs": [
    {
     "name": "stdout",
     "output_type": "stream",
     "text": [
      "int64\n",
      "<class 'list'>\n",
      "[44 15 84 21 76 49 22 41]\n",
      "92\n",
      "8\n"
     ]
    }
   ],
   "source": [
    "#convert to data object, and then to dataset object - we make a dataloader later\n",
    "#VERY IMPORTANT = right now labels are hardcoded as ones, which is stupid, we need to take these labes from the HLS reports\n",
    "\n",
    "import torch\n",
    "from torch_geometric.data import Data\n",
    "#print(labels)\n",
    "test_len = 8\n",
    "idxs = np.arange(len(x_features_list), dtype='int')\n",
    "test_idx = np.random.choice(idxs, size=test_len)\n",
    "print(test_idx.dtype)\n",
    "print(type(x_features_list))\n",
    "test_x_features = []\n",
    "test_edge_index = []\n",
    "test_labels = []\n",
    "\n",
    "for idx in test_idx:\n",
    "    test_x_features.append(x_features_list[idx])\n",
    "    test_edge_index.append(edge_idx_list[idx])\n",
    "    test_labels.append(labels[idx])\n",
    "    \n",
    "print(test_idx)\n",
    "#print(test_x_features)\n",
    "#print(test_edge_index)\n",
    "\n",
    "#should probably assert x_features_list and edge_attr_list have same length\n",
    "train_dataset = []\n",
    "test_dataset = []\n",
    "for i in range(0, len(x_features_list)): #len(x_features_list) = how many graphs we have (how many HLS programs)\n",
    "    edge_index = torch.tensor(edge_idx_list[i]) #turns out you do need this tranpsose or else it gets mad...\n",
    "    nodes = torch.tensor(x_features_list[i])\n",
    "    #label = label_list[i] --- we need to make a label list\n",
    "    label = labels[i]\n",
    "    data = Data(x=nodes, edge_index = edge_index, y = torch.tensor(np.array([labels[i, :]])).T.double()) #maybe y in here is the labes I think... should probably replcae that with what we actually want, but just have it in for now as 1\n",
    "    data.validate(raise_on_error=True)\n",
    "    if i in test_idx:\n",
    "        test_dataset.append(data)\n",
    "    else:\n",
    "        train_dataset.append(data)\n",
    "print(len(train_dataset))\n",
    "print(len(test_dataset))"
   ]
  },
  {
   "cell_type": "code",
   "execution_count": 77,
   "metadata": {
    "editable": true,
    "slideshow": {
     "slide_type": ""
    },
    "tags": []
   },
   "outputs": [
    {
     "name": "stdout",
     "output_type": "stream",
     "text": [
      "Number of features: 19\n",
      "Number of nodes: 353\n",
      "Number of edges: 575\n",
      "Average node degree: 1.63\n",
      "Contains isolated nodes: False\n",
      "Contains self-loops: False\n",
      "Is undirected: False\n"
     ]
    }
   ],
   "source": [
    "#not important, just prints out stuff...not super nessacary\n",
    "data = train_dataset[0]\n",
    "\n",
    "print(f'Number of features: {data.num_features}') #Number of features in the graph\n",
    "print(f'Number of nodes: {data.num_nodes}') #Number of nodes in the graph\n",
    "print(f'Number of edges: {data.num_edges}') #Number of edges in the graph\n",
    "print(f'Average node degree: {data.num_edges / data.num_nodes:.2f}') # Average number of nodes in the graph\n",
    "print(f'Contains isolated nodes: {data.has_isolated_nodes()}') #Does the graph contains nodes that are not connected\n",
    "print(f'Contains self-loops: {data.has_self_loops()}') #Does the graph contains nodes that are linked to themselves\n",
    "print(f'Is undirected: {data.is_undirected()}') #Is the graph an undirected graph"
   ]
  },
  {
   "cell_type": "code",
   "execution_count": 78,
   "metadata": {
    "editable": true,
    "slideshow": {
     "slide_type": ""
    },
    "tags": []
   },
   "outputs": [
    {
     "name": "stdout",
     "output_type": "stream",
     "text": [
      "! 19\n",
      "GCN(\n",
      "  (conv1): GCNConv(19, 64)\n",
      "  (conv2): GCNConv(64, 64)\n",
      "  (norm): LayerNorm(64, affine=True, mode=graph)\n",
      "  (conv3): GCNConv(64, 64)\n",
      "  (pool): SAGPooling(GraphConv, 64, ratio=1.0, multiplier=1.0)\n",
      "  (lin): Linear(in_features=64, out_features=32, bias=True)\n",
      "  (out): Linear(in_features=32, out_features=1, bias=True)\n",
      ")\n"
     ]
    }
   ],
   "source": [
    "#this is the model I took form googel collab I linked in discord (for the most part)\n",
    "#will want to play aorund with it a litlte bit\n",
    "#IMPROTANT: FIGURE OUT WHAT WE ARE DOING WITH NUM_CLASSES\n",
    "\n",
    "from torch.nn import Linear\n",
    "import torch.nn.functional as F\n",
    "from torch_geometric.nn import GCNConv\n",
    "from torch_geometric.nn import global_mean_pool\n",
    "from torch_geometric.nn import SAGPooling\n",
    "from torch_geometric.nn import LayerNorm\n",
    "\n",
    "\n",
    "num_node_features = train_dataset[0].num_node_features\n",
    "num_classes = 1\n",
    "\n",
    "class GCN(torch.nn.Module):\n",
    "    def __init__(self, hidden_channels):\n",
    "\n",
    "        hidden_linear_layer = 32\n",
    "\n",
    "        super(GCN, self).__init__()\n",
    "        torch.manual_seed(12345)\n",
    "        print(\"!\", num_node_features)\n",
    "        self.conv1 = GCNConv(num_node_features, hidden_channels).double()\n",
    "        self.conv2 = GCNConv(hidden_channels, hidden_channels).double()\n",
    "        self.norm = LayerNorm(hidden_channels, mode='graph').double()\n",
    "        self.conv3 = GCNConv(hidden_channels, hidden_channels).double()\n",
    "        self.pool = SAGPooling(hidden_channels, ratio = 1.0).double()\n",
    "        self.lin = Linear(hidden_channels, hidden_linear_layer).double()\n",
    "        self.out = Linear(hidden_linear_layer, 1).double()\n",
    "\n",
    "    def forward(self, x, edge_index):\n",
    "        # 1. Obtain node embeddings \n",
    "        x = self.conv1(x, edge_index).double()\n",
    "        x = x.relu()\n",
    "        x = self.norm(x).double()\n",
    "        x = self.conv2(x, edge_index).double()\n",
    "        \n",
    "        #x = x.relu()\n",
    "        #x = self.conv3(x, edge_index).double()\n",
    "        #print(x)\n",
    "        x, pool_edge, _, _, attn_weights, _= self.pool(x, edge_index)\n",
    "    \n",
    "        x = torch.sum(x, dim = 0).view(1, -1).double()\n",
    "        #print(\"!!\")\n",
    "        #print(x.shape)\n",
    "        #print(x[0])\n",
    "        #print(\"!!!\")\n",
    "        #print(x[1])\n",
    "        # 3. Apply a final classifier\n",
    "        x = self.lin(x).double()\n",
    "        x = x.relu()\n",
    "        x = self.out(x).double()\n",
    "        \n",
    "        return x.double()\n",
    "\n",
    "model = GCN(hidden_channels=64)\n",
    "print(model)"
   ]
  },
  {
   "cell_type": "code",
   "execution_count": 79,
   "metadata": {
    "editable": true,
    "slideshow": {
     "slide_type": ""
    },
    "tags": []
   },
   "outputs": [],
   "source": [
    "#create data loader for training - probably don't want batch size as 1\n",
    "\n",
    "from torch_geometric.loader import DataLoader\n",
    "train_loader =  DataLoader(train_dataset, batch_size=1, shuffle=True)\n",
    "\n",
    "test_loader = DataLoader(test_dataset, batch_size=1)"
   ]
  },
  {
   "cell_type": "code",
   "execution_count": null,
   "metadata": {},
   "outputs": [],
   "source": []
  },
  {
   "cell_type": "code",
   "execution_count": 42,
   "metadata": {},
   "outputs": [
    {
     "name": "stdout",
     "output_type": "stream",
     "text": [
      "Requirement already satisfied: torchmetrics in /export/hdd/scratch/aramacha32/conda/envs/graph/lib/python3.8/site-packages (1.5.2)\n",
      "Requirement already satisfied: numpy>1.20.0 in /export/hdd/scratch/aramacha32/conda/envs/graph/lib/python3.8/site-packages (from torchmetrics) (1.24.4)\n",
      "Requirement already satisfied: packaging>17.1 in /export/hdd/scratch/aramacha32/conda/envs/graph/lib/python3.8/site-packages (from torchmetrics) (24.2)\n",
      "Requirement already satisfied: torch>=1.10.0 in /export/hdd/scratch/aramacha32/conda/envs/graph/lib/python3.8/site-packages (from torchmetrics) (2.4.1)\n",
      "Requirement already satisfied: lightning-utilities>=0.8.0 in /export/hdd/scratch/aramacha32/conda/envs/graph/lib/python3.8/site-packages (from torchmetrics) (0.11.9)\n",
      "Requirement already satisfied: typing-extensions in /export/hdd/scratch/aramacha32/conda/envs/graph/lib/python3.8/site-packages (from torchmetrics) (4.12.2)\n",
      "Requirement already satisfied: setuptools in /export/hdd/scratch/aramacha32/conda/envs/graph/lib/python3.8/site-packages (from lightning-utilities>=0.8.0->torchmetrics) (75.3.0)\n",
      "Requirement already satisfied: filelock in /export/hdd/scratch/aramacha32/conda/envs/graph/lib/python3.8/site-packages (from torch>=1.10.0->torchmetrics) (3.16.1)\n",
      "Requirement already satisfied: sympy in /export/hdd/scratch/aramacha32/conda/envs/graph/lib/python3.8/site-packages (from torch>=1.10.0->torchmetrics) (1.13.3)\n",
      "Requirement already satisfied: networkx in /export/hdd/scratch/aramacha32/conda/envs/graph/lib/python3.8/site-packages (from torch>=1.10.0->torchmetrics) (3.1)\n",
      "Requirement already satisfied: jinja2 in /export/hdd/scratch/aramacha32/conda/envs/graph/lib/python3.8/site-packages (from torch>=1.10.0->torchmetrics) (3.1.4)\n",
      "Requirement already satisfied: fsspec in /export/hdd/scratch/aramacha32/conda/envs/graph/lib/python3.8/site-packages (from torch>=1.10.0->torchmetrics) (2024.10.0)\n",
      "Requirement already satisfied: nvidia-cuda-nvrtc-cu12==12.1.105 in /export/hdd/scratch/aramacha32/conda/envs/graph/lib/python3.8/site-packages (from torch>=1.10.0->torchmetrics) (12.1.105)\n",
      "Requirement already satisfied: nvidia-cuda-runtime-cu12==12.1.105 in /export/hdd/scratch/aramacha32/conda/envs/graph/lib/python3.8/site-packages (from torch>=1.10.0->torchmetrics) (12.1.105)\n",
      "Requirement already satisfied: nvidia-cuda-cupti-cu12==12.1.105 in /export/hdd/scratch/aramacha32/conda/envs/graph/lib/python3.8/site-packages (from torch>=1.10.0->torchmetrics) (12.1.105)\n",
      "Requirement already satisfied: nvidia-cudnn-cu12==9.1.0.70 in /export/hdd/scratch/aramacha32/conda/envs/graph/lib/python3.8/site-packages (from torch>=1.10.0->torchmetrics) (9.1.0.70)\n",
      "Requirement already satisfied: nvidia-cublas-cu12==12.1.3.1 in /export/hdd/scratch/aramacha32/conda/envs/graph/lib/python3.8/site-packages (from torch>=1.10.0->torchmetrics) (12.1.3.1)\n",
      "Requirement already satisfied: nvidia-cufft-cu12==11.0.2.54 in /export/hdd/scratch/aramacha32/conda/envs/graph/lib/python3.8/site-packages (from torch>=1.10.0->torchmetrics) (11.0.2.54)\n",
      "Requirement already satisfied: nvidia-curand-cu12==10.3.2.106 in /export/hdd/scratch/aramacha32/conda/envs/graph/lib/python3.8/site-packages (from torch>=1.10.0->torchmetrics) (10.3.2.106)\n",
      "Requirement already satisfied: nvidia-cusolver-cu12==11.4.5.107 in /export/hdd/scratch/aramacha32/conda/envs/graph/lib/python3.8/site-packages (from torch>=1.10.0->torchmetrics) (11.4.5.107)\n",
      "Requirement already satisfied: nvidia-cusparse-cu12==12.1.0.106 in /export/hdd/scratch/aramacha32/conda/envs/graph/lib/python3.8/site-packages (from torch>=1.10.0->torchmetrics) (12.1.0.106)\n",
      "Requirement already satisfied: nvidia-nccl-cu12==2.20.5 in /export/hdd/scratch/aramacha32/conda/envs/graph/lib/python3.8/site-packages (from torch>=1.10.0->torchmetrics) (2.20.5)\n",
      "Requirement already satisfied: nvidia-nvtx-cu12==12.1.105 in /export/hdd/scratch/aramacha32/conda/envs/graph/lib/python3.8/site-packages (from torch>=1.10.0->torchmetrics) (12.1.105)\n",
      "Requirement already satisfied: triton==3.0.0 in /export/hdd/scratch/aramacha32/conda/envs/graph/lib/python3.8/site-packages (from torch>=1.10.0->torchmetrics) (3.0.0)\n",
      "Requirement already satisfied: nvidia-nvjitlink-cu12 in /export/hdd/scratch/aramacha32/conda/envs/graph/lib/python3.8/site-packages (from nvidia-cusolver-cu12==11.4.5.107->torch>=1.10.0->torchmetrics) (12.6.85)\n",
      "Requirement already satisfied: MarkupSafe>=2.0 in /export/hdd/scratch/aramacha32/conda/envs/graph/lib/python3.8/site-packages (from jinja2->torch>=1.10.0->torchmetrics) (2.1.5)\n",
      "Requirement already satisfied: mpmath<1.4,>=1.1.0 in /export/hdd/scratch/aramacha32/conda/envs/graph/lib/python3.8/site-packages (from sympy->torch>=1.10.0->torchmetrics) (1.3.0)\n"
     ]
    }
   ],
   "source": [
    "!pip install torchmetrics"
   ]
  },
  {
   "cell_type": "code",
   "execution_count": 80,
   "metadata": {
    "editable": true,
    "slideshow": {
     "slide_type": ""
    },
    "tags": []
   },
   "outputs": [
    {
     "name": "stdout",
     "output_type": "stream",
     "text": [
      "! 19\n",
      "epoch:  1  loss:  tensor(1049.3853, dtype=torch.float64, grad_fn=<MeanBackward0>)\n",
      "epoch:  2  loss:  tensor(854.9988, dtype=torch.float64, grad_fn=<MeanBackward0>)\n",
      "epoch:  3  loss:  tensor(4264.7446, dtype=torch.float64, grad_fn=<MeanBackward0>)\n",
      "epoch:  4  loss:  tensor(1485.2656, dtype=torch.float64, grad_fn=<MeanBackward0>)\n",
      "epoch:  5  loss:  tensor(22800.4284, dtype=torch.float64, grad_fn=<MeanBackward0>)\n",
      "epoch:  6  loss:  tensor(198588.2057, dtype=torch.float64, grad_fn=<MeanBackward0>)\n",
      "epoch:  7  loss:  tensor(5563.3693, dtype=torch.float64, grad_fn=<MeanBackward0>)\n",
      "epoch:  8  loss:  tensor(36885.5928, dtype=torch.float64, grad_fn=<MeanBackward0>)\n",
      "epoch:  9  loss:  tensor(30851.7422, dtype=torch.float64, grad_fn=<MeanBackward0>)\n",
      "epoch:  10  loss:  tensor(8004.5444, dtype=torch.float64, grad_fn=<MeanBackward0>)\n",
      "epoch:  11  loss:  tensor(125989.4462, dtype=torch.float64, grad_fn=<MeanBackward0>)\n",
      "epoch:  12  loss:  tensor(30467.0071, dtype=torch.float64, grad_fn=<MeanBackward0>)\n",
      "epoch:  13  loss:  tensor(22042.5899, dtype=torch.float64, grad_fn=<MeanBackward0>)\n",
      "epoch:  14  loss:  tensor(3882.5869, dtype=torch.float64, grad_fn=<MeanBackward0>)\n"
     ]
    }
   ],
   "source": [
    "#TRAINING LOOP\n",
    "#number of epochs is completely arbitrary\n",
    "#TODO: SAVE THE MODEL somehow ( probably just copy code from HW)\n",
    "from torchmetrics.regression import MeanAbsolutePercentageError\n",
    "\n",
    "model = GCN(hidden_channels=128)\n",
    "optimizer = torch.optim.Adam(model.parameters(), lr=0.001)\n",
    "criterion = torch.nn.L1Loss()\n",
    "\n",
    "\n",
    "def train():\n",
    "    model.train()\n",
    "\n",
    "    loss = None\n",
    "    out = None\n",
    "\n",
    "    for data in train_loader:  # Iterate in batches over the training dataset.\n",
    "         out = model(data.x, data.edge_index)  # Perform a single forward pass.\n",
    "         out = out.reshape((1, -1))\n",
    "         loss = criterion(out, data.y)  # Compute the loss.\n",
    "         loss.backward()  # Derive gradients.\n",
    "         #torch.nn.utils.clip_grad_value_(model.parameters(), 0.1)\n",
    "         optimizer.step()  # Update parameters based on gradients.\n",
    "         optimizer.zero_grad()  # Clear gradients.\n",
    "    return loss, out\n",
    "\n",
    "loss = None\n",
    "out = None\n",
    "\n",
    "for epoch in range(1, 15):\n",
    "    loss, out = train()\n",
    "    print(\"epoch: \", epoch, \" loss: \", loss)\n",
    "\n",
    "\n",
    "\n"
   ]
  },
  {
   "cell_type": "code",
   "execution_count": 81,
   "metadata": {
    "editable": true,
    "slideshow": {
     "slide_type": ""
    },
    "tags": []
   },
   "outputs": [
    {
     "name": "stdout",
     "output_type": "stream",
     "text": [
      "resources accuracy:  [70.46904689]\n",
      "resources accuracy:  [71.34625001]\n",
      "resources accuracy:  [35.29729772]\n",
      "resources accuracy:  [87.04116733]\n",
      "resources accuracy:  [71.9633366]\n",
      "resources accuracy:  [60.03850136]\n",
      "resources accuracy:  [17.07169885]\n",
      "resources accuracy:  [134.51343848]\n",
      "68.46759215424174 average percent error\n"
     ]
    }
   ],
   "source": [
    "l_acc = []\n",
    "r_acc = []\n",
    "for data in test_loader:\n",
    "    out = model(data.x, data.edge_index)\n",
    "\n",
    "    #predicted_latency_cycles = out.detach().numpy()[0,:]\n",
    "    predicted_resources = out.detach().numpy()[0,:]\n",
    "\n",
    "    #actual_latency = (data.y.detach().numpy().T)[:,0]\n",
    "    actual_resources = (data.y.detach().numpy().T)[:,0]\n",
    "\n",
    "    #latency_accuracy = 100 * abs((predicted_latency_cycles - actual_latency)/actual_latency)\n",
    "    resources_accuracy = 100 * abs((predicted_resources - actual_resources) / actual_resources)\n",
    "\n",
    "    #l_acc.append(latency_accuracy)\n",
    "    r_acc.append(resources_accuracy)\n",
    "\n",
    "    print(\"resources accuracy: \", resources_accuracy)\n",
    "\n",
    "print(np.average(np.array(r_acc)), \"average percent error\")"
   ]
  },
  {
   "cell_type": "code",
   "execution_count": null,
   "metadata": {},
   "outputs": [],
   "source": []
  }
 ],
 "metadata": {
  "kernelspec": {
   "display_name": "Python 3 (ipykernel)",
   "language": "python",
   "name": "python3"
  },
  "language_info": {
   "codemirror_mode": {
    "name": "ipython",
    "version": 3
   },
   "file_extension": ".py",
   "mimetype": "text/x-python",
   "name": "python",
   "nbconvert_exporter": "python",
   "pygments_lexer": "ipython3",
   "version": "3.8.20"
  }
 },
 "nbformat": 4,
 "nbformat_minor": 4
}
